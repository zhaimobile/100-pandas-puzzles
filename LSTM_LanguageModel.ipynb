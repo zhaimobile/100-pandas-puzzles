{
  "nbformat": 4,
  "nbformat_minor": 0,
  "metadata": {
    "colab": {
      "name": "LSTM_LanguageModel",
      "provenance": [],
      "collapsed_sections": [],
      "include_colab_link": true
    },
    "kernelspec": {
      "name": "python3",
      "display_name": "Python 3"
    },
    "accelerator": "GPU"
  },
  "cells": [
    {
      "cell_type": "markdown",
      "metadata": {
        "id": "view-in-github",
        "colab_type": "text"
      },
      "source": [
        "<a href=\"https://colab.research.google.com/github/zhaimobile/100-pandas-puzzles/blob/master/LSTM_LanguageModel.ipynb\" target=\"_parent\"><img src=\"https://colab.research.google.com/assets/colab-badge.svg\" alt=\"Open In Colab\"/></a>"
      ]
    },
    {
      "cell_type": "markdown",
      "metadata": {
        "id": "GVUdfOjFi1cR",
        "colab_type": "text"
      },
      "source": [
        "# DATA"
      ]
    },
    {
      "cell_type": "code",
      "metadata": {
        "id": "OJZNdkStgvJK",
        "colab_type": "code",
        "outputId": "3ce1f71c-43b0-4f7e-be1d-fb6f8ca21ccc",
        "colab": {
          "base_uri": "https://localhost:8080/",
          "height": 336
        }
      },
      "source": [
        "!wget http://mattmahoney.net/dc/text8.zip -O text8.gz\n",
        "!gzip -d text8.gz -f\n",
        "\n",
        "!head text8 -c 99000000 > text8.train.txt\n",
        "!tail text8 -c 1000000 > text8.valid.txt\n",
        "\n",
        "!rm text8\n",
        "\n",
        "!ls -la ."
      ],
      "execution_count": 0,
      "outputs": [
        {
          "output_type": "stream",
          "text": [
            "--2019-12-30 14:25:26--  http://mattmahoney.net/dc/text8.zip\n",
            "Resolving mattmahoney.net (mattmahoney.net)... 67.195.197.75\n",
            "Connecting to mattmahoney.net (mattmahoney.net)|67.195.197.75|:80... connected.\n",
            "HTTP request sent, awaiting response... 200 OK\n",
            "Length: 31344016 (30M) [application/zip]\n",
            "Saving to: ‘text8.gz’\n",
            "\n",
            "text8.gz            100%[===================>]  29.89M   709KB/s    in 44s     \n",
            "\n",
            "2019-12-30 14:26:10 (696 KB/s) - ‘text8.gz’ saved [31344016/31344016]\n",
            "\n",
            "total 97676\n",
            "drwxr-xr-x 1 root root     4096 Dec 30 14:26 .\n",
            "drwxr-xr-x 1 root root     4096 Dec 30 14:23 ..\n",
            "drwxr-xr-x 1 root root     4096 Dec 18 16:52 .config\n",
            "drwxr-xr-x 1 root root     4096 Dec 18 16:52 sample_data\n",
            "-rw-r--r-- 1 root root 99000000 Dec 30 14:26 text8.train.txt\n",
            "-rw-r--r-- 1 root root  1000000 Dec 30 14:26 text8.valid.txt\n"
          ],
          "name": "stdout"
        }
      ]
    },
    {
      "cell_type": "markdown",
      "metadata": {
        "id": "nRJ_aWLXjJHY",
        "colab_type": "text"
      },
      "source": [
        "# IMPORTS"
      ]
    },
    {
      "cell_type": "code",
      "metadata": {
        "id": "rEYQV-2Nys6J",
        "colab_type": "code",
        "colab": {}
      },
      "source": [
        "import numpy as np\n",
        "import pandas as pd\n",
        "import matplotlib.pyplot as plt\n",
        "\n",
        "import torch\n",
        "import torch.nn as nn\n",
        "import torch.nn.functional as F\n",
        "import torchtext\n",
        "\n",
        "import spacy"
      ],
      "execution_count": 0,
      "outputs": []
    },
    {
      "cell_type": "code",
      "metadata": {
        "id": "5CSlc6TWlWcc",
        "colab_type": "code",
        "outputId": "e183b208-08d5-47c4-80cc-7006585c8036",
        "colab": {
          "base_uri": "https://localhost:8080/",
          "height": 34
        }
      },
      "source": [
        "MAX_VOCAB_SIZE = 50000\n",
        "BATCH_SIZE = 128\n",
        "EMBEDDING_SIZE = 500\n",
        "\n",
        "device = torch.device('cuda' if torch.cudnn_is_acceptable else 'cpu')\n",
        "device"
      ],
      "execution_count": 0,
      "outputs": [
        {
          "output_type": "execute_result",
          "data": {
            "text/plain": [
              "device(type='cuda')"
            ]
          },
          "metadata": {
            "tags": []
          },
          "execution_count": 3
        }
      ]
    },
    {
      "cell_type": "code",
      "metadata": {
        "id": "_BGph9bhz1R9",
        "colab_type": "code",
        "colab": {}
      },
      "source": [
        "def spacy_tokenize(x):\n",
        "    return [tok.text for tok in spacy.load('en').tokenizer(x)]\n",
        " \n",
        "TEXT_SPACY = torchtext.data.Field(lower=True, tokenize=spacy_tokenize)"
      ],
      "execution_count": 0,
      "outputs": []
    },
    {
      "cell_type": "code",
      "metadata": {
        "id": "E9xw5f0qjFyQ",
        "colab_type": "code",
        "outputId": "7181beeb-455f-40dd-d91c-a1bcd986a5a1",
        "colab": {
          "base_uri": "https://localhost:8080/",
          "height": 34
        }
      },
      "source": [
        "TEXT = torchtext.data.Field(lower=True)\n",
        "\n",
        "train, val = torchtext.datasets.LanguageModelingDataset.splits(\n",
        "  path=\".\", \n",
        "  train=\"text8.train.txt\", \n",
        "  validation=\"text8.valid.txt\", \n",
        "  text_field=TEXT\n",
        ")\n",
        "\n",
        "TEXT.build_vocab(train, max_size=MAX_VOCAB_SIZE)\n",
        "VOCAB_SIZE = len(TEXT.vocab)\n",
        "VOCAB_SIZE"
      ],
      "execution_count": 0,
      "outputs": [
        {
          "output_type": "execute_result",
          "data": {
            "text/plain": [
              "50002"
            ]
          },
          "metadata": {
            "tags": []
          },
          "execution_count": 5
        }
      ]
    },
    {
      "cell_type": "code",
      "metadata": {
        "id": "bUSgqSRXmqSJ",
        "colab_type": "code",
        "colab": {}
      },
      "source": [
        "train_iter, val_iter = torchtext.data.BPTTIterator.splits(\n",
        "  (train, val), \n",
        "  batch_size=BATCH_SIZE, \n",
        "  device=device, \n",
        "  bptt_len=32, \n",
        "  repeat=False, \n",
        "  shuffle=True\n",
        ")"
      ],
      "execution_count": 0,
      "outputs": []
    },
    {
      "cell_type": "code",
      "metadata": {
        "id": "pA4k9bbznc8I",
        "colab_type": "code",
        "outputId": "593e0aa4-87fb-4639-bbac-5420cd3b70a6",
        "colab": {
          "base_uri": "https://localhost:8080/",
          "height": 178
        }
      },
      "source": [
        "print(len(train), len(train_iter))\n",
        "print(\"------------------------------\")\n",
        "print(type(train_iter))\n",
        "print(train_iter.__dict__)\n",
        "print(\"------------------------------\")\n",
        "batch = next(iter(train_iter))\n",
        "print(\" \".join([TEXT.vocab.itos[i] for i in batch.text[:,2].data]))\n",
        "print(\"------------------------------\")\n",
        "print(\" \".join([TEXT.vocab.itos[i] for i in batch.target[:,2].data]))\n"
      ],
      "execution_count": 0,
      "outputs": [
        {
          "output_type": "stream",
          "text": [
            "1 4111\n",
            "------------------------------\n",
            "<class 'torchtext.data.iterator.BPTTIterator'>\n",
            "{'bptt_len': 32, 'batch_size': 128, 'train': True, 'dataset': <torchtext.datasets.language_modeling.LanguageModelingDataset object at 0x7fc1cdb5ac50>, 'batch_size_fn': None, 'iterations': 0, 'repeat': False, 'shuffle': True, 'sort': False, 'sort_within_batch': False, 'sort_key': None, 'device': device(type='cuda'), 'random_shuffler': <torchtext.data.utils.RandomShuffler object at 0x7fc1cdb5a898>, '_iterations_this_epoch': 0, '_random_state_this_epoch': None, '_restored_from_state': False}\n",
            "------------------------------\n",
            "settled in the cities which offered jobs education and other opportunities that enabled newcomers to enter the middle class since the one nine three zero s many rural workers have moved to\n",
            "------------------------------\n",
            "in the cities which offered jobs education and other opportunities that enabled newcomers to enter the middle class since the one nine three zero s many rural workers have moved to the\n"
          ],
          "name": "stdout"
        }
      ]
    },
    {
      "cell_type": "markdown",
      "metadata": {
        "id": "9x_XvTduwfsf",
        "colab_type": "text"
      },
      "source": [
        "# LanguageModel"
      ]
    },
    {
      "cell_type": "code",
      "metadata": {
        "id": "7t6bjU4GwlI-",
        "colab_type": "code",
        "colab": {}
      },
      "source": [
        "class LSTM_LM(nn.Module):\n",
        "\n",
        "  def __init__(self, token_size, emb_size, hidden_size, num_layers, dropout=0.5):\n",
        "    super(LSTM_LM, self).__init__()\n",
        "\n",
        "    self.encoder = nn.Embedding(token_size, emb_size) #an Embedding module containing n_token tensors of size n_emb\n",
        "    self.lstm = nn.LSTM(input_size=emb_size, hidden_size=hidden_size, num_layers=num_layers, dropout=dropout)\n",
        "    self.decoder = nn.Linear(hidden_size, token_size)\n",
        "\n",
        "    self.init_weights()\n",
        "\n",
        "    self.drop = nn.Dropout(dropout)\n",
        "\n",
        "    self.hidden_size = hidden_size\n",
        "    self.num_layers = num_layers\n",
        "\n",
        "  def forward(self, input, hidden):\n",
        "    emb = self.drop(self.encoder(input))\n",
        "    output, hidden = self.lstm(emb, hidden)\n",
        "    output = self.drop(output)\n",
        "    decoded = self.decoder(output.view(output.size(0)*output.size(1), output.size(2)))\n",
        "\n",
        "    return decoded.view(output.size(0), output.size(1), decoded.size(1)), hidden\n",
        "\n",
        "  def init_weights(self):\n",
        "    initrange = 0.1\n",
        "    self.encoder.weight.data.uniform_(-initrange, initrange)\n",
        "    self.decoder.bias.data.zero_()\n",
        "    self.decoder.weight.data.uniform_(-initrange, initrange)\n",
        "\n",
        "  \n",
        "  def init_hidden(self, bsz, requires_grad=True):\n",
        "    weight = next(self.parameters())\n",
        "    return( weight.new_zeros((self.num_layers, bsz, self.hidden_size), requires_grad=requires_grad),\n",
        "            weight.new_zeros((self.num_layers, bsz, self.hidden_size), requires_grad=requires_grad))\n"
      ],
      "execution_count": 0,
      "outputs": []
    },
    {
      "cell_type": "code",
      "metadata": {
        "id": "ipGwaFJ3y3UL",
        "colab_type": "code",
        "colab": {}
      },
      "source": [
        "model = LSTM_LM(token_size=VOCAB_SIZE, \n",
        "                emb_size=EMBEDDING_SIZE, \n",
        "                hidden_size=EMBEDDING_SIZE, \n",
        "                num_layers=2, \n",
        "                dropout=0.5)\n",
        "\n",
        "model = model.cuda()"
      ],
      "execution_count": 0,
      "outputs": []
    },
    {
      "cell_type": "code",
      "metadata": {
        "id": "2wMjrjLU3zcq",
        "colab_type": "code",
        "colab": {}
      },
      "source": [
        "loss_fn = nn.CrossEntropyLoss()\n",
        "\n",
        "learning_rate = 0.001\n",
        "optimizer = torch.optim.Adam(model.parameters(), lr=learning_rate)"
      ],
      "execution_count": 0,
      "outputs": []
    },
    {
      "cell_type": "code",
      "metadata": {
        "id": "Jj1fj8a-4CfT",
        "colab_type": "code",
        "colab": {}
      },
      "source": [
        "def repackage_hidden(h):\n",
        "    \"\"\"Wraps hidden states in new Tensors, to detach them from their history.\"\"\"\n",
        "    if isinstance(h, torch.Tensor):\n",
        "        return h.detach()\n",
        "    else:\n",
        "        return tuple(repackage_hidden(v) for v in h)"
      ],
      "execution_count": 0,
      "outputs": []
    },
    {
      "cell_type": "code",
      "metadata": {
        "id": "WOkWpYSuy6QZ",
        "colab_type": "code",
        "outputId": "718f4d8b-28b4-4c2f-e484-6caaefbd340a",
        "colab": {
          "base_uri": "https://localhost:8080/",
          "height": 34
        }
      },
      "source": [
        "GRAD_CLIP = 1.\n",
        "NUM_EPOCHS = 2\n",
        "\n",
        "val_losses = []\n",
        "for epoch in range(NUM_EPOCHS):\n",
        "  model.train()\n",
        "\n",
        "  hidden = model.init_hidden(BATCH_SIZE)\n",
        "\n",
        "  for i, batch in enumerate(iter(train_iter)):\n",
        "    data, target = batch.text, batch.target\n",
        "    data, target = data.cuda(), target.cuda()\n",
        "\n",
        "    hidden = repackage_hidden(hidden)\n",
        "    model.zero_grad()\n",
        "    output, hidden = model(data, hidden)\n",
        "    \n",
        "    loss = loss_fn(output.view(-1, VOCAB_SIZE), target.view(-1))\n",
        "    loss.backward()\n",
        "\n",
        "    torch.nn.utils.clip_grad_norm_(model.parameters(), GRAD_CLIP)\n",
        "    optimizer.step()\n",
        "    \n",
        "    if i % 1000 == 0:\n",
        "      print(\"epoch\", epoch, \"iter\", i, \"loss\", loss.item())"
      ],
      "execution_count": 0,
      "outputs": [
        {
          "output_type": "stream",
          "text": [
            "epoch 0 iter 0 loss 10.826722145080566\n"
          ],
          "name": "stdout"
        }
      ]
    },
    {
      "cell_type": "markdown",
      "metadata": {
        "id": "6NLXffKr6iXz",
        "colab_type": "text"
      },
      "source": [
        "# USE LM"
      ]
    },
    {
      "cell_type": "code",
      "metadata": {
        "id": "8aRVfYvS571_",
        "colab_type": "code",
        "colab": {}
      },
      "source": [
        "hidden_x = model.init_hidden(1)\n",
        "input_x = torch.randint(VOCAB_SIZE, (1, 1), dtype=torch.long).to(device)\n",
        "print(TEXT.vocab.itos[input_x])"
      ],
      "execution_count": 0,
      "outputs": []
    },
    {
      "cell_type": "code",
      "metadata": {
        "id": "dZHU-42L6pm3",
        "colab_type": "code",
        "colab": {}
      },
      "source": [
        "words = []\n",
        "for i in range(100):\n",
        "    output, hidden = model(input_x, hidden_x)\n",
        "    word_weights = output.squeeze().exp().cpu()\n",
        "    word_idx = torch.multinomial(word_weights, 1)[0]\n",
        "    input_x.fill_(word_idx)\n",
        "    word = TEXT.vocab.itos[word_idx]\n",
        "    words.append(word)\n",
        "print(\" \".join(words))"
      ],
      "execution_count": 0,
      "outputs": []
    },
    {
      "cell_type": "markdown",
      "metadata": {
        "id": "4jLVsfrLKe-4",
        "colab_type": "text"
      },
      "source": [
        "# Display Embedding"
      ]
    },
    {
      "cell_type": "code",
      "metadata": {
        "id": "y9n1bLn48Fnn",
        "colab_type": "code",
        "colab": {}
      },
      "source": [
        "model.encoder"
      ],
      "execution_count": 0,
      "outputs": []
    },
    {
      "cell_type": "code",
      "metadata": {
        "id": "iVIdhaudIYyk",
        "colab_type": "code",
        "colab": {}
      },
      "source": [
        "from sklearn.decomposition import PCA\n",
        "from sklearn.manifold import TSNE\n",
        "import seaborn as sns"
      ],
      "execution_count": 0,
      "outputs": []
    },
    {
      "cell_type": "code",
      "metadata": {
        "id": "_mvpaS6tInnA",
        "colab_type": "code",
        "colab": {}
      },
      "source": [
        "embdata = model.encoder.weight.data.cpu().numpy()"
      ],
      "execution_count": 0,
      "outputs": []
    },
    {
      "cell_type": "code",
      "metadata": {
        "id": "pzsSPYdPIxDr",
        "colab_type": "code",
        "colab": {}
      },
      "source": [
        "pca = PCA(n_components=3)\n",
        "pca_result = pca.fit_transform(embdata)"
      ],
      "execution_count": 0,
      "outputs": []
    },
    {
      "cell_type": "code",
      "metadata": {
        "id": "1vTDpOqdJHT7",
        "colab_type": "code",
        "colab": {}
      },
      "source": [
        "pca_result"
      ],
      "execution_count": 0,
      "outputs": []
    },
    {
      "cell_type": "code",
      "metadata": {
        "id": "3_ricCnHJRET",
        "colab_type": "code",
        "colab": {}
      },
      "source": [
        "print('Explained variation per principal component: {}'.format(pca.explained_variance_ratio_))"
      ],
      "execution_count": 0,
      "outputs": []
    },
    {
      "cell_type": "code",
      "metadata": {
        "id": "OFBkibxiJq8d",
        "colab_type": "code",
        "outputId": "5d4a1032-d99e-4e24-b410-2bf050dd08aa",
        "colab": {
          "base_uri": "https://localhost:8080/",
          "height": 133
        }
      },
      "source": [
        "vocab = \n",
        "plt.figure(figsize=(12, 12), dpi=80)\n",
        "plt.scatter(pca_result[:, 0], pca_result[:, 1])\n",
        "\n",
        "for i, word in enumerate(vocab):\n",
        "\tplt.annotate(word, xy=(pca_result[i, 0], pca_result[i, 1]))\n",
        " \n",
        "plt.show()"
      ],
      "execution_count": 0,
      "outputs": [
        {
          "output_type": "error",
          "ename": "SyntaxError",
          "evalue": "ignored",
          "traceback": [
            "\u001b[0;36m  File \u001b[0;32m\"<ipython-input-21-1d1c965ca83e>\"\u001b[0;36m, line \u001b[0;32m1\u001b[0m\n\u001b[0;31m    vocab =\u001b[0m\n\u001b[0m            ^\u001b[0m\n\u001b[0;31mSyntaxError\u001b[0m\u001b[0;31m:\u001b[0m invalid syntax\n"
          ]
        }
      ]
    },
    {
      "cell_type": "code",
      "metadata": {
        "id": "_q7GShi1MAlq",
        "colab_type": "code",
        "colab": {}
      },
      "source": [
        "plt.scatter(pca_result[:300, 0], pca_result[:300, 1])\n",
        "\n",
        "words = list(model.wv.vocab)\n",
        "for i, word in enumerate(words):\n",
        "\tpyplot.annotate(word, xy=(result[i, 0], result[i, 1]))"
      ],
      "execution_count": 0,
      "outputs": []
    },
    {
      "cell_type": "code",
      "metadata": {
        "id": "NWx4iHE7LJeR",
        "colab_type": "code",
        "colab": {}
      },
      "source": [
        ""
      ],
      "execution_count": 0,
      "outputs": []
    }
  ]
}